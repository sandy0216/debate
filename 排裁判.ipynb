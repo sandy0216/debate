{
  "nbformat": 4,
  "nbformat_minor": 0,
  "metadata": {
    "colab": {
      "name": "排裁判.ipynb",
      "provenance": [],
      "mount_file_id": "1NLDl_qovVQT0Jbr7veLFmCkbu0oEZyCJ",
      "authorship_tag": "ABX9TyOxpWmBF25+vKlxwLM9I8kH",
      "include_colab_link": true
    },
    "kernelspec": {
      "name": "python3",
      "display_name": "Python 3"
    },
    "language_info": {
      "name": "python"
    }
  },
  "cells": [
    {
      "cell_type": "markdown",
      "metadata": {
        "id": "view-in-github",
        "colab_type": "text"
      },
      "source": [
        "<a href=\"https://colab.research.google.com/github/sandy0216/debate/blob/main/%E6%8E%92%E8%A3%81%E5%88%A4.ipynb\" target=\"_parent\"><img src=\"https://colab.research.google.com/assets/colab-badge.svg\" alt=\"Open In Colab\"/></a>"
      ]
    },
    {
      "cell_type": "code",
      "execution_count": null,
      "metadata": {
        "id": "YP3DMfgdJV3Y"
      },
      "outputs": [],
      "source": [
        "!pip install ortools"
      ]
    },
    {
      "cell_type": "code",
      "source": [
        "import csv\n",
        "from ortools.graph import pywrapgraph\n",
        "import numpy as np"
      ],
      "metadata": {
        "id": "Sa-Hs7HIJfqu"
      },
      "execution_count": null,
      "outputs": []
    },
    {
      "cell_type": "code",
      "source": [
        "filename = '/content/drive/MyDrive/63屆寒菁/coding_test/schedule.csv'\n",
        "data = []\n",
        "with open(filename, newline='') as csvfile:\n",
        "  rows = csv.reader(csvfile)\n",
        "  for row in rows:\n",
        "    data.append(row)"
      ],
      "metadata": {
        "id": "8u6ODsUBJuWF"
      },
      "execution_count": null,
      "outputs": []
    },
    {
      "cell_type": "code",
      "source": [
        "class battle():\n",
        "  def __init__(self,time,battle,school):\n",
        "    self.time = time\n",
        "    self.battle = battle\n",
        "    self.enemy = school\n",
        "    self.schs = [battle.split('x')[0],battle.split('x')[1],school]\n",
        "    self.judges = []"
      ],
      "metadata": {
        "id": "jI3XbJ09KGuu"
      },
      "execution_count": null,
      "outputs": []
    },
    {
      "cell_type": "code",
      "source": [
        "schedule = []\n",
        "for i in range(int(len(data)/3)):\n",
        "  sch = [] # 本時段有哪些場次\n",
        "  time = data[i*3]\n",
        "  bat = data[i*3+1]\n",
        "  school = data[i*3+2]\n",
        "  for j,b in enumerate(bat):\n",
        "    if(len(b)!=0):\n",
        "      temp = battle(time,bat[j],school[j])\n",
        "      sch.append(temp)\n",
        "  schedule.append(sch)"
      ],
      "metadata": {
        "id": "zmStut28J1Tl"
      },
      "execution_count": null,
      "outputs": []
    },
    {
      "cell_type": "code",
      "source": [
        "filename = '/content/drive/MyDrive/63屆寒菁/coding_test/judges.csv'\n",
        "judges = []\n",
        "time  = []\n",
        "avoid  = []\n",
        "with open(filename, newline='') as csvfile:\n",
        "  rows = csv.reader(csvfile)\n",
        "  for row in rows:\n",
        "    judges.append(row[0])\n",
        "    time.append(row[1:1+len(schedule)])  #第2-5行是時間\n",
        "    avoid.append(row[1+len(schedule):])\n",
        "for i in range(len(judges)):\n",
        "  print(i,judges[i])"
      ],
      "metadata": {
        "colab": {
          "base_uri": "https://localhost:8080/"
        },
        "id": "0mvdTlZkLwn4",
        "outputId": "6c4984c2-e43d-4107-96d1-a402024209d5"
      },
      "execution_count": null,
      "outputs": [
        {
          "output_type": "stream",
          "name": "stdout",
          "text": [
            "0 4莊文琪\n",
            "1 4鄒偉達\n",
            "2 4周泰寧\n",
            "3 4蔡東霖\n",
            "4 4莊棨閎\n",
            "5 4李曼瑄\n",
            "6 4顏廷宇\n",
            "7 3楊子賢\n",
            "8 3李守治\n",
            "9 3許人友\n",
            "10 3劉祖丞\n",
            "11 3黃家綸\n",
            "12 3蕭家靖\n",
            "13 3郭晏瑜\n",
            "14 3廖哲霈\n",
            "15 2秦偉翔\n",
            "16 2李映璉\n",
            "17 2施敦仁\n",
            "18 2張雅如\n",
            "19 2王詣昕\n",
            "20 0江杏霙\n",
            "21 0李承哲\n",
            "22 1華怡茹\n",
            "23 1魏子捷\n",
            "24 4施玟辰\n",
            "25 4游甯筑\n",
            "26 3姚博翔\n",
            "27 3楊榮軒\n",
            "28 2劉岳軒\n",
            "29 2黃柏翔\n",
            "30 4陳軍宇\n",
            "31 2林嘉恩\n",
            "32 2陳可惠\n"
          ]
        }
      ]
    },
    {
      "cell_type": "code",
      "source": [
        "# 每個時段有哪些裁判可用\n",
        "candidates = []\n",
        "for i in range(4):\n",
        "  candidate = []\n",
        "  for j in range(len(judges)):\n",
        "    if(time[j][i]=='1'):\n",
        "      candidate.append(j)\n",
        "  #print(candidate)\n",
        "  np.random.shuffle(candidate) #亂數一下，排出來才不會太頻繁的同字頭裁同一場\n",
        "  print(len(candidate),candidate) #存進去的是judges這個array對應的編號\n",
        "  candidates.append(candidate)\n",
        "  if(len(candidate)<3*len(schedule[i])):\n",
        "    print('裁判不夠QQQQ')"
      ],
      "metadata": {
        "colab": {
          "base_uri": "https://localhost:8080/"
        },
        "id": "0au7-UR0L1N-",
        "outputId": "bcbe3161-117e-4a59-bbad-89233c7578fd"
      },
      "execution_count": null,
      "outputs": [
        {
          "output_type": "stream",
          "name": "stdout",
          "text": [
            "21 [10, 0, 31, 11, 26, 8, 2, 23, 4, 28, 12, 27, 3, 21, 25, 16, 6, 5, 29, 14, 30]\n",
            "21 [25, 11, 12, 10, 16, 26, 5, 6, 8, 23, 22, 24, 1, 30, 4, 28, 21, 29, 3, 27, 14]\n",
            "15 [17, 23, 16, 9, 32, 14, 11, 22, 20, 10, 15, 21, 13, 27, 8]\n",
            "15 [15, 22, 10, 32, 8, 23, 14, 16, 13, 17, 21, 27, 9, 20, 11]\n"
          ]
        }
      ]
    },
    {
      "cell_type": "code",
      "source": [
        "def get_judge(run,output_cand=False):\n",
        "  # 設定本時段可用裁判、對戰\n",
        "  candidate = candidates[run]\n",
        "  battles = schedule[run]\n",
        "  # 解flow的設定\n",
        "  n_battle = len(battles)\n",
        "  n_judge  = len(candidate)\n",
        "  vertex = np.arange(0,n_battle+n_judge+2,1)\n",
        "  st, end = int(vertex[0]), int(vertex[-1])\n",
        "  battle_arr, judge_arr = vertex[1:n_battle+1], vertex[n_battle+1:-1]\n",
        "  start_nodes = []\n",
        "  end_nodes = []\n",
        "  capacities = []\n",
        "  def add_edge(st,end,cap):\n",
        "    start_nodes.append(int(st))\n",
        "    end_nodes.append(int(end))\n",
        "    capacities.append(int(cap))\n",
        "  for i in range(n_battle):\n",
        "    add_edge(st,battle_arr[i],3) # 每場比賽有三個裁判\n",
        "  for i in range(n_judge):\n",
        "    add_edge(judge_arr[i],end,1) # 每個裁判只能裁一場\n",
        "  for i,bat in enumerate(battles):\n",
        "    cyc_sch = bat.schs\n",
        "    if(output_cand): print(bat.battle)\n",
        "    n = 0\n",
        "    for j,p in enumerate(candidate):\n",
        "      flag = 0\n",
        "      for sch in cyc_sch:\n",
        "        if(sch in avoid[p]): flag = 1\n",
        "      if(flag==0):\n",
        "        if(output_cand): print(judges[p],end='\\t')\n",
        "        add_edge(battle_arr[i],judge_arr[j],1)\n",
        "        n += 1\n",
        "    if(output_cand): print(n)\n",
        "\n",
        "  # 開始解flow\n",
        "  max_flow = pywrapgraph.SimpleMaxFlow()\n",
        "  # Add each arc.\n",
        "  for i in range(0, len(start_nodes)):\n",
        "    max_flow.AddArcWithCapacity(start_nodes[i], end_nodes[i], capacities[i])\n",
        "  # Find the maximum flow between node 0 and node 4.\n",
        "  if max_flow.Solve(st, end) == max_flow.OPTIMAL:\n",
        "    print('[Info] Get the optimal flow!')\n",
        "  if(max_flow.OptimalFlow()!=3*n_battle):\n",
        "    print('[Error] Fail to solve the flow network')\n",
        "\n",
        "  # 設定本時段存裁判編號的array\n",
        "  our_judge = np.empty([n_battle,3])\n",
        "  our_judge_n = np.zeros(n_battle)\n",
        "  for bat in schedule[run]:\n",
        "    bat.judges = []\n",
        "\n",
        "  drop = []\n",
        "  for i in range(max_flow.NumArcs()):\n",
        "    # print(i,max_flow.Flow(i))\n",
        "    if(max_flow.Flow(i)==1 and max_flow.Head(i)!=end):\n",
        "      #print(max_flow.Tail(i)-battle_arr[0],max_flow.Head(i)-judge_arr[0])\n",
        "      court = max_flow.Tail(i)-battle_arr[0]\n",
        "      judge = max_flow.Head(i)-judge_arr[0]\n",
        "      schedule[run][court].judges.append(judges[candidate[judge]])\n",
        "    if(max_flow.Flow(i)==0 and max_flow.Head(i)==end):\n",
        "      #print(max_flow.Tail(i)-judge_arr[0],max_flow.Head(i))\n",
        "      drop.append(judges[candidate[max_flow.Tail(i)-judge_arr[0]]])\n",
        "  return drop "
      ],
      "metadata": {
        "id": "jAoSRiz-MEvt"
      },
      "execution_count": null,
      "outputs": []
    },
    {
      "cell_type": "code",
      "source": [
        "backup = []\n",
        "for i in range(len(schedule)):\n",
        "  drop = get_judge(i)\n",
        "  backup.append(drop)\n",
        "print(backup)"
      ],
      "metadata": {
        "colab": {
          "base_uri": "https://localhost:8080/"
        },
        "id": "9R7o-e-lPrm9",
        "outputId": "05de050e-4ecf-416f-9eae-0dd77e5a327c"
      },
      "execution_count": null,
      "outputs": [
        {
          "output_type": "stream",
          "name": "stdout",
          "text": [
            "[Info] Get the optimal flow!\n",
            "[Info] Get the optimal flow!\n",
            "[Info] Get the optimal flow!\n",
            "[Info] Get the optimal flow!\n",
            "[[], [], [], []]\n"
          ]
        }
      ]
    },
    {
      "cell_type": "code",
      "source": [
        "f = open('/content/drive/MyDrive/63屆寒菁/coding_test/output/schedule_with_judge.csv','w')\n",
        "for i,sch in enumerate(schedule):\n",
        "  print(sch[0].time[0],end=', ,',file=f)\n",
        "  if(len(backup[i])!=0):\n",
        "    for d in backup[i]:\n",
        "      print(d,end=',',file=f)\n",
        "  print('',file=f)\n",
        "  for battle in sch:\n",
        "    print(f'{battle.battle},,{battle.enemy}',end=',',file=f)\n",
        "  print('',file=f)\n",
        "  for battle in sch:\n",
        "    for j in battle.judges:\n",
        "      print(j,end=',',file=f)\n",
        "  print('',file=f)\n",
        "f.close()"
      ],
      "metadata": {
        "id": "fc3mwZpARqHE"
      },
      "execution_count": null,
      "outputs": []
    },
    {
      "cell_type": "code",
      "source": [
        "f = open('/content/drive/MyDrive/63屆寒菁/coding_test/output/schedule_with_judge_transpose.csv','w')\n",
        "for i,sch in enumerate(schedule):\n",
        "  print(sch[0].time[0],end=', ,',file=f)\n",
        "  if(len(backup[i])!=0):\n",
        "    for d in backup[i]:\n",
        "      print(d,end=',',file=f)\n",
        "  print('',file=f)\n",
        "  for battle in sch:\n",
        "    print(f'{battle.battle},,{battle.enemy}',end=',',file=f)\n",
        "    for j in battle.judges:\n",
        "      print(j,end=',',file=f)\n",
        "    print('',file=f)  \n",
        "f.close()"
      ],
      "metadata": {
        "id": "9HdDC8xpSxBF"
      },
      "execution_count": null,
      "outputs": []
    },
    {
      "cell_type": "code",
      "source": [
        ""
      ],
      "metadata": {
        "id": "3X-iND1wcPgO"
      },
      "execution_count": null,
      "outputs": []
    }
  ]
}