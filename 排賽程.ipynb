{
  "nbformat": 4,
  "nbformat_minor": 0,
  "metadata": {
    "colab": {
      "name": "排賽程.ipynb",
      "provenance": [],
      "mount_file_id": "1uQwAZYrIpRVNH1rTBwXWNxv53bUORB7-",
      "authorship_tag": "ABX9TyNbEs7X8tgY2VgSuSqU5qMA",
      "include_colab_link": true
    },
    "kernelspec": {
      "name": "python3",
      "display_name": "Python 3"
    },
    "language_info": {
      "name": "python"
    }
  },
  "cells": [
    {
      "cell_type": "markdown",
      "metadata": {
        "id": "view-in-github",
        "colab_type": "text"
      },
      "source": [
        "<a href=\"https://colab.research.google.com/github/sandy0216/debate/blob/main/%E6%8E%92%E8%B3%BD%E7%A8%8B.ipynb\" target=\"_parent\"><img src=\"https://colab.research.google.com/assets/colab-badge.svg\" alt=\"Open In Colab\"/></a>"
      ]
    },
    {
      "cell_type": "code",
      "source": [
        "!pip install ortools"
      ],
      "metadata": {
        "id": "W6vxaHRPHyHD",
        "colab": {
          "base_uri": "https://localhost:8080/"
        },
        "outputId": "d36f9530-8d89-4dde-b0bc-47bc7c8b3f02"
      },
      "execution_count": null,
      "outputs": [
        {
          "output_type": "stream",
          "name": "stdout",
          "text": [
            "Requirement already satisfied: ortools in /usr/local/lib/python3.7/dist-packages (9.2.9972)\n",
            "Requirement already satisfied: absl-py>=0.13 in /usr/local/lib/python3.7/dist-packages (from ortools) (1.0.0)\n",
            "Requirement already satisfied: numpy>=1.13.3 in /usr/local/lib/python3.7/dist-packages (from ortools) (1.21.5)\n",
            "Requirement already satisfied: protobuf>=3.19.1 in /usr/local/lib/python3.7/dist-packages (from ortools) (3.19.4)\n",
            "Requirement already satisfied: six in /usr/local/lib/python3.7/dist-packages (from absl-py>=0.13->ortools) (1.15.0)\n"
          ]
        }
      ]
    },
    {
      "cell_type": "code",
      "execution_count": null,
      "metadata": {
        "id": "-F-32rwvtWN-"
      },
      "outputs": [],
      "source": [
        "import csv\n",
        "from ortools.graph import pywrapgraph\n",
        "import numpy as np"
      ]
    },
    {
      "cell_type": "code",
      "source": [
        "filename = '/content/drive/MyDrive/63屆寒菁/coding_test/schools.csv'\n",
        "schools = []\n",
        "with open(filename, newline='') as csvfile:\n",
        "  rows = csv.reader(csvfile)\n",
        "  for row in rows:\n",
        "    schools.append(row)"
      ],
      "metadata": {
        "id": "Ejsf7eun4y0R"
      },
      "execution_count": null,
      "outputs": []
    },
    {
      "cell_type": "code",
      "source": [
        "class battle: #每個循環的資訊\n",
        "  def __init__(self,cycle):\n",
        "    self.sch  = []\n",
        "    self.cycle = cycle\n",
        "    self.time = []\n",
        "    self.ind = 0\n",
        "  \n",
        "  def check_time(self):\n",
        "    if(len(self.time)!=0):\n",
        "      self.time = []\n",
        "\n",
        "class scheule: #每個時段的資訊，希望可以擴充到排裁判\n",
        "  def __init__(self,time):\n",
        "    self.time = time\n",
        "    self.battle = []\n",
        "    self.label = None\n",
        "    self.room = None\n",
        "  \n",
        "  def check_battle(self):\n",
        "    if(len(self.battle)!=0):\n",
        "      self.battle = []"
      ],
      "metadata": {
        "id": "j8CW6R7LNKpB"
      },
      "execution_count": null,
      "outputs": []
    },
    {
      "cell_type": "code",
      "source": [
        "#將csv檔中的學校資訊存成battle資料格式\n",
        "def create_battle(schools):\n",
        "  battles = []\n",
        "  n = len(schools)\n",
        "  for i in range(n):\n",
        "    school = schools[i]\n",
        "    n_sch  = len(school)\n",
        "    temp = battle(school[0])\n",
        "    for i in range(1,n_sch):\n",
        "      temp.sch.append(school[i])\n",
        "    battles.append(temp)\n",
        "  return battles\n",
        "battles = create_battle(schools)"
      ],
      "metadata": {
        "id": "ZKF5VeIO0jhi"
      },
      "execution_count": null,
      "outputs": []
    },
    {
      "cell_type": "code",
      "source": [
        "#將時段/場次資訊存成scheule資料格式\n",
        "times = {'3/4(五)時段一 10.00-12.30':7,'3/4(五)時段二 13.00-15.30':7\\\n",
        "    ,'3/5(六)時段一 9.00-11.30':5,'3/5(六)時段二 12.00-14.30':5}\n",
        "def create_scheule(times):\n",
        "  scheules = []\n",
        "  for i,t in enumerate(times.keys()):\n",
        "    temp = scheule(i)\n",
        "    temp.label = t\n",
        "    temp.room = times[t]\n",
        "    scheules.append(temp)\n",
        "  return scheules\n",
        "scheules = create_scheule(times)\n",
        "print([t.room for t in scheules])"
      ],
      "metadata": {
        "colab": {
          "base_uri": "https://localhost:8080/"
        },
        "id": "toU6dekKNl1S",
        "outputId": "b49c0133-b845-4c42-97d3-f8d3ad7377b5"
      },
      "execution_count": null,
      "outputs": [
        {
          "output_type": "stream",
          "name": "stdout",
          "text": [
            "[7, 7, 5, 5]\n"
          ]
        }
      ]
    },
    {
      "cell_type": "code",
      "source": [
        "cycle_cap = np.array([len(bat.sch) for bat in battles]) # 每個循環有幾隊\n",
        "time_cap = np.array([t.room for t in scheules])     # 每個時段有幾場\n",
        "\n",
        "n_cycle, n_time = len(cycle_cap), len(time_cap)\n",
        "vertex = np.arange(0,n_cycle+n_time+2,1)\n",
        "st, end = int(vertex[0]),int(vertex[-1])\n",
        "cycle, time = vertex[1:n_cycle+1],vertex[n_cycle+1:-1]\n",
        "start_nodes = []\n",
        "end_nodes = []\n",
        "capacities = []\n",
        "def add_edge(st,end,cap):\n",
        "  start_nodes.append(int(st))\n",
        "  end_nodes.append(int(end))\n",
        "  capacities.append(int(cap))\n",
        "for i in range(n_cycle):\n",
        "  add_edge(st,cycle[i],cycle_cap[i])\n",
        "for i in range(n_time):\n",
        "  add_edge(time[i],end,time_cap[i])\n",
        "for i in range(n_cycle):\n",
        "  for j in range(n_time):\n",
        "    add_edge(cycle[i],time[j],1)"
      ],
      "metadata": {
        "id": "DoR8oRAX-pjf"
      },
      "execution_count": null,
      "outputs": []
    },
    {
      "cell_type": "code",
      "source": [
        "max_flow = pywrapgraph.SimpleMaxFlow()\n",
        "# Add each arc.\n",
        "for i in range(0, len(start_nodes)):\n",
        "  max_flow.AddArcWithCapacity(start_nodes[i], end_nodes[i], capacities[i])\n",
        "\n",
        "# Find the maximum flow between node 0 and node 4.\n",
        "if max_flow.Solve(st, end) == max_flow.OPTIMAL:\n",
        "  print('[Info] Get the optimal flow!')\n",
        "if(max_flow.OptimalFlow()!=np.sum(cycle_cap)):\n",
        "  print('[Error] Fail to solve the flow network')\n",
        "\n",
        "for bat in battles:\n",
        "  bat.check_time()\n",
        "for sch in scheules:\n",
        "  sch.check_battle()\n",
        "\n",
        "for i in range(max_flow.NumArcs()):\n",
        "  if(max_flow.Flow(i)==1):\n",
        "    #print(max_flow.Tail(i)-1,max_flow.Head(i)-time[0])\n",
        "    battles[max_flow.Tail(i)-1].time.append(max_flow.Head(i)-time[0])\n",
        "    scheules[max_flow.Head(i)-time[0]].battle.append(max_flow.Tail(i)-1)"
      ],
      "metadata": {
        "id": "WTTYfYzkI-Gz",
        "colab": {
          "base_uri": "https://localhost:8080/"
        },
        "outputId": "a6d07009-1366-40fd-9692-b5eabb4d3500"
      },
      "execution_count": null,
      "outputs": [
        {
          "output_type": "stream",
          "name": "stdout",
          "text": [
            "[Info] Get the optimal flow!\n"
          ]
        }
      ]
    },
    {
      "cell_type": "code",
      "source": [
        "for sch in scheules:\n",
        "  print(sch.label)\n",
        "  cyc_arr = sch.battle\n",
        "  for cyc in cyc_arr:\n",
        "    cyc_sch = battles[cyc].sch\n",
        "    cyc_ind = battles[cyc].ind\n",
        "    print(f'{cyc_sch[cyc_ind%3]}v.s.{cyc_sch[(cyc_ind+1)%3]}',end='\\t')\n",
        "    battles[cyc].ind += 1\n",
        "  print('')"
      ],
      "metadata": {
        "colab": {
          "base_uri": "https://localhost:8080/"
        },
        "id": "hmZZUwWFPEHm",
        "outputId": "f62c16e0-8d24-4f4e-d984-dcef12e99930"
      },
      "execution_count": null,
      "outputs": [
        {
          "output_type": "stream",
          "name": "stdout",
          "text": [
            "3/4(五)時段一 10.00-12.30\n",
            "海洋大學v.s.政大演辯A\t北科正言Bv.s.成功大學B\t輔仁大學v.s.臺灣大學B\t清華大學v.s.中山大學\t東吳正言v.s.成功大學A\t文化大學v.s.北科正言A\t國北教大v.s.臺灣大學A\t\n",
            "3/4(五)時段二 13.00-15.30\n",
            "政大演辯Av.s.北大滔滔A\t成功大學Bv.s.世新大學B\t臺灣大學Bv.s.中正大學\t世新大學Av.s.政大演辯B\t成功大學Av.s.北大滔滔B\t北科正言Av.s.淡江大學\t臺灣大學Av.s.政大法辯\t\n",
            "3/5(六)時段一 9.00-11.30\n",
            "中山大學v.s.中央大學\t政大演辯Bv.s.東海大學\t北大滔滔Bv.s.東吳正言\t淡江大學v.s.文化大學\t政大法辯v.s.國北教大\t\n",
            "3/5(六)時段二 12.00-14.30\n",
            "北大滔滔Av.s.海洋大學\t世新大學Bv.s.北科正言B\t中正大學v.s.輔仁大學\t中央大學v.s.清華大學\t東海大學v.s.世新大學A\t\n"
          ]
        }
      ]
    },
    {
      "cell_type": "code",
      "source": [
        "f = open('/content/drive/MyDrive/63屆寒菁/coding_test/schedule.csv','w')\n",
        "for sch in scheules:\n",
        "  print(sch.label,file=f)\n",
        "  cyc_arr = sch.battle\n",
        "  for cyc in cyc_arr:\n",
        "    cyc_sch = battles[cyc].sch\n",
        "    cyc_ind = battles[cyc].ind\n",
        "    print(f'{cyc_sch[cyc_ind%3]}x{cyc_sch[(cyc_ind+1)%3]}',end=',',file=f)\n",
        "    battles[cyc].ind += 1\n",
        "  print('',file=f)\n",
        "  for cyc in cyc_arr:\n",
        "    cyc_sch = battles[cyc].sch\n",
        "    cyc_ind = battles[cyc].ind\n",
        "    print(f'{cyc_sch[(cyc_ind+1)%3]}',end=',',file=f)\n",
        "    battles[cyc].ind += 1\n",
        "  print('',file=f)\n",
        "f.close()"
      ],
      "metadata": {
        "id": "I6fZ0FhbG527"
      },
      "execution_count": null,
      "outputs": []
    },
    {
      "cell_type": "code",
      "source": [
        ""
      ],
      "metadata": {
        "id": "5q50ks9463Ws"
      },
      "execution_count": null,
      "outputs": []
    }
  ]
}